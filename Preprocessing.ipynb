{
 "cells": [
  {
   "cell_type": "code",
   "execution_count": 1,
   "id": "1eea7e17-5ee4-46a0-941b-c3e3522794f8",
   "metadata": {},
   "outputs": [],
   "source": [
    "import os\n",
    "import numpy as np\n",
    "import torch\n",
    "import scipy.io\n",
    "import scipy.signal\n",
    "import picard\n",
    "import sklearn.preprocessing\n",
    "import matplotlib.pyplot as plt"
   ]
  },
  {
   "cell_type": "code",
   "execution_count": 2,
   "id": "de5bb0db-ee52-47b8-b736-6ff86162bdcc",
   "metadata": {},
   "outputs": [],
   "source": [
    "show = __name__ == \"__main__\""
   ]
  },
  {
   "cell_type": "code",
   "execution_count": 3,
   "id": "8dd319a8-0ea1-4159-8255-aeaf94d193e9",
   "metadata": {},
   "outputs": [],
   "source": [
    "dataset = torch.load(\"dataset.pt\", weights_only=True)\n",
    "\n",
    "for key, value in dataset[\"metadata\"].items():\n",
    "    locals()[key] = value\n",
    "\n",
    "data = dataset['data']\n",
    "labels = dataset['labels']\n",
    "subjects = dataset['subjects']\n",
    "\n",
    "for key, value in dataset[\"metadata\"].items():\n",
    "    locals()[key] = value"
   ]
  },
  {
   "cell_type": "code",
   "execution_count": 4,
   "id": "13ed0791-afd4-49b4-a8ad-4fff5a1b639d",
   "metadata": {},
   "outputs": [],
   "source": [
    "def normalize(data, dim=None):\n",
    "    means = data.mean(dim=dim, keepdim=True)\n",
    "    stds = data.std(dim=dim, keepdim=True)\n",
    "    data -= means\n",
    "    data /= stds\n",
    "    return data\n",
    "    \n",
    "if show:\n",
    "    data_normal = normalize(data, dim=2)"
   ]
  },
  {
   "cell_type": "code",
   "execution_count": 5,
   "id": "fbe9da88-31cb-45ae-a75c-150d88cbe8d5",
   "metadata": {},
   "outputs": [],
   "source": [
    "def common_average_referencing(data, dim=None, residual=False):\n",
    "    means = data.mean(dim=dim, keepdim=True)\n",
    "    data -= means\n",
    "    if residual:\n",
    "        return torch.cat([data, means], dim=dim)\n",
    "    return data\n",
    "\n",
    "if show:\n",
    "    data_car = common_average_referencing(data, dim=1)"
   ]
  },
  {
   "cell_type": "code",
   "execution_count": 6,
   "id": "bf0a315e-739e-401a-bfe2-aafed4d96f7f",
   "metadata": {},
   "outputs": [
    {
     "name": "stdout",
     "output_type": "stream",
     "text": [
      "torch.Size([9315, 6, 4096])\n"
     ]
    }
   ],
   "source": [
    "if show:\n",
    "    data_normal_car = normalize(common_average_referencing(data, dim=1), dim=2)\n",
    "    print(data_normal_car.shape)    "
   ]
  },
  {
   "cell_type": "code",
   "execution_count": 7,
   "id": "a65ed2c5-f2f9-4959-b845-fb1c18fdadae",
   "metadata": {},
   "outputs": [],
   "source": [
    "# Super naive spike thesholdning. Everything beyond +/- 1 SD is a spike.\n",
    "def abs_threshold(data, threshold=1):\n",
    "    return (data.abs() > 1).float()\n"
   ]
  },
  {
   "cell_type": "code",
   "execution_count": 8,
   "id": "f92d120f-92a4-4a17-85c3-b52783403d2b",
   "metadata": {},
   "outputs": [
    {
     "name": "stdout",
     "output_type": "stream",
     "text": [
      "torch.Size([9315, 6, 4096])\n"
     ]
    }
   ],
   "source": [
    "if show:\n",
    "    spikes = abs_threshold(data_normal_car, threshold=1)\n",
    "    print(spikes.shape)"
   ]
  },
  {
   "cell_type": "code",
   "execution_count": 9,
   "id": "2fe9403d-c172-4b2c-9ade-e0c875989e44",
   "metadata": {},
   "outputs": [
    {
     "name": "stdout",
     "output_type": "stream",
     "text": [
      "tensor([[[0., 0., 0.,  ..., 0., 0., 0.],\n",
      "         [0., 0., 0.,  ..., 0., 0., 0.],\n",
      "         [1., 1., 1.,  ..., 0., 0., 0.],\n",
      "         [1., 1., 1.,  ..., 0., 0., 0.],\n",
      "         [0., 0., 0.,  ..., 0., 0., 0.],\n",
      "         [1., 1., 1.,  ..., 0., 0., 0.]],\n",
      "\n",
      "        [[0., 0., 0.,  ..., 1., 1., 1.],\n",
      "         [0., 0., 0.,  ..., 0., 0., 0.],\n",
      "         [0., 0., 0.,  ..., 0., 0., 0.],\n",
      "         [0., 0., 0.,  ..., 0., 0., 0.],\n",
      "         [1., 1., 1.,  ..., 1., 1., 1.],\n",
      "         [0., 0., 0.,  ..., 0., 0., 0.]],\n",
      "\n",
      "        [[0., 0., 0.,  ..., 0., 0., 0.],\n",
      "         [1., 1., 1.,  ..., 0., 0., 0.],\n",
      "         [0., 0., 0.,  ..., 0., 0., 0.],\n",
      "         [0., 0., 0.,  ..., 0., 0., 0.],\n",
      "         [1., 1., 1.,  ..., 1., 1., 1.],\n",
      "         [0., 0., 0.,  ..., 0., 0., 0.]],\n",
      "\n",
      "        ...,\n",
      "\n",
      "        [[0., 0., 0.,  ..., 1., 1., 1.],\n",
      "         [1., 1., 1.,  ..., 0., 0., 0.],\n",
      "         [0., 0., 0.,  ..., 0., 0., 0.],\n",
      "         [1., 1., 1.,  ..., 0., 0., 0.],\n",
      "         [1., 1., 1.,  ..., 1., 1., 1.],\n",
      "         [0., 0., 0.,  ..., 0., 0., 0.]],\n",
      "\n",
      "        [[0., 0., 0.,  ..., 0., 0., 1.],\n",
      "         [0., 0., 0.,  ..., 0., 0., 0.],\n",
      "         [0., 0., 0.,  ..., 0., 0., 0.],\n",
      "         [0., 0., 0.,  ..., 0., 1., 1.],\n",
      "         [0., 0., 0.,  ..., 0., 0., 0.],\n",
      "         [0., 0., 0.,  ..., 0., 0., 0.]],\n",
      "\n",
      "        [[1., 1., 1.,  ..., 1., 1., 1.],\n",
      "         [1., 1., 1.,  ..., 0., 0., 0.],\n",
      "         [1., 1., 1.,  ..., 0., 0., 0.],\n",
      "         [1., 1., 1.,  ..., 1., 1., 1.],\n",
      "         [0., 0., 0.,  ..., 0., 0., 0.],\n",
      "         [0., 0., 0.,  ..., 0., 1., 1.]]])\n"
     ]
    }
   ],
   "source": [
    "if show:\n",
    "    print(spikes)"
   ]
  },
  {
   "cell_type": "code",
   "execution_count": null,
   "id": "3dbb58d7-9978-4d17-a942-d5452e9f3f2c",
   "metadata": {},
   "outputs": [],
   "source": []
  },
  {
   "cell_type": "code",
   "execution_count": 10,
   "id": "40a81164-3b54-4a3e-b375-20d80271c04c",
   "metadata": {},
   "outputs": [],
   "source": [
    "# Naive spike thesholdning. Everything beyond +/- 1 SD is a spike.\n",
    "def pol_threshold(data, threshold=1, dim=1):\n",
    "    return torch.cat(((data > threshold).float(), (data < -threshold).float()), dim=dim)"
   ]
  },
  {
   "cell_type": "code",
   "execution_count": 11,
   "id": "d9a65ff6-c89e-4151-baaa-f2e0985646ab",
   "metadata": {},
   "outputs": [],
   "source": [
    "if show:\n",
    "    spikes_pol = pol_threshold(data_normal_car, threshold=1, dim=1)\n",
    "    spikes_pol.shape"
   ]
  },
  {
   "cell_type": "code",
   "execution_count": 12,
   "id": "2abe14ab-3331-4d4c-8bac-78af7978316a",
   "metadata": {},
   "outputs": [],
   "source": [
    "def delta_coding(data, delta=0.1):\n",
    "    quantized = (data / delta).to(int)\n",
    "    diff = torch.diff(quantized, dim=2, prepend=data[:,:,:1])\n",
    "    # This wasn't exactly obvious. floor(1.5) is 1 while floor (-1.5) is -2\n",
    "    spikes_delta = torch.cat((\n",
    "        torch.floor(diff).clamp(min=0),\n",
    "        -torch.ceil(diff).clamp(max=0),\n",
    "    ), dim=1).to(torch.float32)\n",
    "    return spikes_delta\n"
   ]
  },
  {
   "cell_type": "code",
   "execution_count": 13,
   "id": "d8c67a71-01d7-4fde-afa3-47f181c9ac80",
   "metadata": {},
   "outputs": [
    {
     "name": "stdout",
     "output_type": "stream",
     "text": [
      "torch.Size([9315, 12, 4096])\n"
     ]
    }
   ],
   "source": [
    "if show:\n",
    "    spikes_delta = delta_coding(data_normal_car, delta=0.1)\n",
    "    print(spikes_delta.shape)"
   ]
  },
  {
   "cell_type": "code",
   "execution_count": 14,
   "id": "6a007a1a-c31b-4012-b66a-33ba815d5903",
   "metadata": {},
   "outputs": [
    {
     "name": "stdout",
     "output_type": "stream",
     "text": [
      "tensor([1., 0., 2., 1., 1., 1., 1., 2., 1., 2., 2., 1., 2., 2., 2., 1., 2., 2.,\n",
      "        1., 1., 2., 1., 1., 0., 1., 0., 0., 0., 0., 0., 0., 0., 0., 0., 0., 0.,\n",
      "        0., 0., 0., 1., 0., 1., 1., 0., 1., 1., 1., 1., 1., 0., 1., 0., 1., 0.,\n",
      "        0., 0., 0., 0., 0., 0., 0., 0., 0., 0., 0., 0., 0., 0., 0., 1., 1., 1.,\n",
      "        0., 1., 1., 1., 1., 0., 1., 0., 0., 0., 0., 0., 0., 0., 0., 0., 0., 0.,\n",
      "        0., 0., 0., 0., 0., 0., 0., 0., 0., 0.]) tensor([-0., 1., -0., 1., -0., -0., 1., -0., -0., -0., -0., -0., -0., -0., -0., -0., -0., -0.,\n",
      "        -0., -0., -0., -0., -0., -0., -0., -0., -0., -0., -0., -0., -0., -0., -0., -0., -0., -0.,\n",
      "        -0., -0., -0., -0., -0., -0., -0., -0., -0., -0., -0., -0., -0., -0., -0., -0., -0., -0.,\n",
      "        -0., -0., -0., -0., -0., -0., -0., -0., -0., -0., -0., 1., -0., 1., -0., 1., 1., 2.,\n",
      "        1., 1., 2., 1., 2., 1., 1., 1., 1., 1., 1., 1., -0., 1., -0., 1., 1., -0.,\n",
      "        1., -0., 1., 1., 1., 1., -0., 1., 1., -0.])\n"
     ]
    }
   ],
   "source": [
    "if show:\n",
    "    print(spikes_delta[0,0,1000:1100], spikes_delta[0,7,1000:1100])"
   ]
  },
  {
   "cell_type": "code",
   "execution_count": 15,
   "id": "d0759e77-a51c-41da-937b-b787ec56f5ea",
   "metadata": {},
   "outputs": [
    {
     "name": "stdout",
     "output_type": "stream",
     "text": [
      "tensor(905.) tensor(853.)\n"
     ]
    }
   ],
   "source": [
    "if show:\n",
    "    print(spikes_delta[0,0,:].sum(), spikes_delta[0,7,:].sum())"
   ]
  },
  {
   "cell_type": "code",
   "execution_count": 16,
   "id": "c6f0eb5e-4080-47f1-9db3-e29c23870ea9",
   "metadata": {},
   "outputs": [],
   "source": [
    "def rate_coding(data, sensitivity=0.1):\n",
    "    spikes_quant = data / sensitivity\n",
    "    spikes_rate = torch.cat((\n",
    "        torch.floor(spikes_quant).clamp(min=0),\n",
    "        -torch.ceil(spikes_quant).clamp(max=0),\n",
    "    ), dim=1).to(int).to(torch.float32)\n",
    "    return spikes_rate\n"
   ]
  },
  {
   "cell_type": "code",
   "execution_count": 17,
   "id": "2b795547-52a8-4991-a21f-7348654f397b",
   "metadata": {},
   "outputs": [
    {
     "name": "stdout",
     "output_type": "stream",
     "text": [
      "tensor(14238.) tensor(14238.)\n"
     ]
    }
   ],
   "source": [
    "if show:\n",
    "    spikes_rate = rate_coding(data_normal_car, sensitivity=0.1)\n",
    "    print(spikes_rate[0,0,:].sum(), spikes_rate[0,7,:].sum())"
   ]
  },
  {
   "cell_type": "code",
   "execution_count": 18,
   "id": "d8f81971-055b-47b3-9e4f-0191d2059121",
   "metadata": {},
   "outputs": [
    {
     "name": "stdout",
     "output_type": "stream",
     "text": [
      "torch.Size([9315, 12, 4096])\n"
     ]
    }
   ],
   "source": [
    "if show:\n",
    "    print(spikes_rate.shape)"
   ]
  },
  {
   "cell_type": "code",
   "execution_count": 19,
   "id": "62f16755-1fdf-4d84-ae5c-f0b41f3f4fef",
   "metadata": {},
   "outputs": [],
   "source": [
    "if show:\n",
    "    spikes_rate[0,0,1000:1100], spikes_rate[0,7,1000:1100]"
   ]
  },
  {
   "cell_type": "code",
   "execution_count": 20,
   "id": "82559670-0e49-4506-aa51-de1f9349f4d1",
   "metadata": {},
   "outputs": [],
   "source": [
    "def bin_sum(data, size, dim=-1):\n",
    "    '''Bin the data into fewer bins by summation, analogous to Tonic.ToFrame. Implementation by ChatGPT.'''\n",
    "    total_indices = data.size(dim)\n",
    "    quotient, remainder = divmod(total_indices, size)\n",
    "    bin_sizes = [quotient + (1 if i >= size - remainder else 0) for i in range(size)]\n",
    "    splits = torch.split(torch.arange(total_indices), bin_sizes)\n",
    "    return torch.stack([data.index_select(dim, idx).sum(dim=dim) for idx in splits], dim=dim)"
   ]
  },
  {
   "cell_type": "code",
   "execution_count": 21,
   "id": "eda1e3fa-3e58-4c7b-b097-536676f9d748",
   "metadata": {},
   "outputs": [],
   "source": [
    "def collate(batch):\n",
    "    events, targets = zip(*batch)\n",
    "    events = torch.stack(events).permute(2, 0, 1)\n",
    "    targets = torch.stack(targets)\n",
    "    return events, targets"
   ]
  },
  {
   "cell_type": "code",
   "execution_count": 22,
   "id": "8c258e4d-826c-43de-bca0-177cd758fac8",
   "metadata": {},
   "outputs": [],
   "source": [
    "def downsample(data, in_rate=rate, out_rate=rate//8):\n",
    "    samples = data.size(-1) * out_rate // in_rate\n",
    "    result = scipy.signal.resample(data.cpu().numpy(), samples, axis=-1)\n",
    "    return torch.tensor(result, device=data.device, dtype=data.dtype)"
   ]
  },
  {
   "cell_type": "code",
   "execution_count": 23,
   "id": "ce05654c-52bc-4b2e-8b59-6d6d216ba881",
   "metadata": {},
   "outputs": [
    {
     "name": "stdout",
     "output_type": "stream",
     "text": [
      "torch.Size([9315, 6, 512]) tensor([[[-5.6440e-01, -1.3465e-01,  5.3643e-01,  ..., -3.6973e-01,\n",
      "          -2.2805e-01, -6.5275e-02],\n",
      "         [-1.5260e-01,  5.2418e-02,  3.7649e-02,  ..., -2.1199e-01,\n",
      "          -2.6564e-01, -2.6839e-01],\n",
      "         [-1.3406e+00, -1.1242e+00,  5.8785e-01,  ...,  3.2872e-02,\n",
      "          -2.4551e-01,  1.7649e-01],\n",
      "         [ 5.0264e-01,  9.4376e-01,  2.5399e-02,  ..., -4.7949e-01,\n",
      "          -7.8102e-01, -1.1629e+00],\n",
      "         [ 2.3762e-01, -8.0104e-01, -1.2238e+00,  ...,  8.4811e-01,\n",
      "           7.1667e-01,  6.4377e-01],\n",
      "         [ 1.4567e+00,  1.2526e+00, -3.1159e-03,  ...,  1.0986e-01,\n",
      "           6.9921e-01,  4.9365e-01]],\n",
      "\n",
      "        [[ 7.7283e-01,  2.2104e-01, -1.7966e-01,  ...,  1.2105e+00,\n",
      "           1.1410e+00,  1.1509e+00],\n",
      "         [ 8.1522e-01,  6.8938e-01,  6.7538e-01,  ...,  1.2152e-03,\n",
      "           3.7902e-01,  7.1207e-01],\n",
      "         [-2.0878e-02,  4.7478e-01, -6.6236e-01,  ..., -2.0286e-01,\n",
      "          -1.4239e-01, -2.6990e-01],\n",
      "         [ 1.2571e-01,  3.8214e-01,  9.5851e-01,  ..., -2.9243e-01,\n",
      "          -2.4383e-01, -1.1005e-02],\n",
      "         [-1.5876e+00, -1.8466e+00, -9.7907e-01,  ..., -3.8356e-01,\n",
      "          -7.1590e-01, -1.1217e+00],\n",
      "         [-2.5511e-01, -9.5887e-02,  2.3454e-01,  ..., -4.7958e-01,\n",
      "          -5.3017e-01, -5.5217e-01]],\n",
      "\n",
      "        [[ 5.2363e-01,  2.7483e-01, -1.7299e-02,  ...,  5.6903e-01,\n",
      "           4.6849e-01,  5.6435e-01],\n",
      "         [ 1.3952e+00,  2.1875e+00,  1.9657e+00,  ...,  1.7732e+00,\n",
      "           1.4870e+00,  9.0571e-01],\n",
      "         [-5.0544e-01, -1.3183e+00, -1.2422e+00,  ..., -2.2214e+00,\n",
      "          -1.9268e+00, -9.3033e-01],\n",
      "         [ 3.6932e-01,  1.7303e+00,  2.8119e+00,  ...,  1.3456e+00,\n",
      "           1.0072e+00,  3.9967e-01],\n",
      "         [-1.3972e+00, -1.9922e+00, -2.4897e+00,  ..., -2.3186e+00,\n",
      "          -1.9130e+00, -1.5025e+00],\n",
      "         [-4.1846e-01, -6.4074e-01, -5.6008e-01,  ...,  5.4733e-01,\n",
      "           5.6916e-01,  2.9278e-01]],\n",
      "\n",
      "        ...,\n",
      "\n",
      "        [[ 6.9689e-01,  1.9558e-01,  8.2275e-01,  ..., -2.7721e-01,\n",
      "          -1.4674e-01,  9.2416e-01],\n",
      "         [ 7.4514e-01,  1.3390e+00,  8.1419e-01,  ...,  7.8002e-02,\n",
      "           5.6604e-01,  2.0438e-01],\n",
      "         [-2.9751e-01, -5.1280e-01,  2.9624e-02,  ..., -2.9788e-02,\n",
      "           1.1785e-01,  8.1806e-02],\n",
      "         [ 8.2874e-01,  1.5006e+00,  8.0443e-01,  ...,  2.5391e-01,\n",
      "           3.3278e-01,  4.5027e-02],\n",
      "         [-1.8198e+00, -1.6626e+00, -1.5605e+00,  ..., -1.6055e-01,\n",
      "          -9.4611e-01, -1.6885e+00],\n",
      "         [ 8.3954e-03, -3.8471e-01, -5.5848e-01,  ...,  1.5455e-01,\n",
      "           1.5690e-01,  3.1745e-01]],\n",
      "\n",
      "        [[-4.8000e-01,  3.1646e-01,  6.0743e-01,  ...,  4.0110e-01,\n",
      "           2.8447e-01, -4.5289e-01],\n",
      "         [ 3.2588e-01,  7.8595e-01,  9.1391e-01,  ..., -1.9559e+00,\n",
      "          -1.4121e+00,  2.1456e-01],\n",
      "         [ 2.1611e-01, -4.2201e-01, -1.4932e+00,  ...,  1.1393e+00,\n",
      "           1.2707e+00,  1.7517e-01],\n",
      "         [ 8.1239e-01,  7.7603e-01,  8.7307e-01,  ..., -1.4351e+00,\n",
      "          -1.0417e+00,  2.7169e-01],\n",
      "         [-3.1791e-01, -3.3964e-01, -1.4849e-01,  ...,  1.4826e+00,\n",
      "           4.4338e-01, -3.3994e-01],\n",
      "         [-1.7703e-01, -1.1749e+00, -1.1241e+00,  ...,  9.6601e-02,\n",
      "           4.0548e-01,  4.0825e-01]],\n",
      "\n",
      "        [[ 1.3470e+00,  4.9890e-01, -6.9940e-01,  ..., -5.8720e-01,\n",
      "           2.8318e-01,  1.5016e+00],\n",
      "         [-1.1151e+00, -1.1743e+00,  6.3997e-01,  ...,  1.1072e+00,\n",
      "           4.2821e-01,  4.5537e-01],\n",
      "         [ 1.1640e+00,  1.7079e+00, -1.9796e-01,  ..., -3.4892e-01,\n",
      "          -9.5519e-01, -1.5138e+00],\n",
      "         [-1.9452e+00, -1.8551e+00, -2.3611e-01,  ..., -1.9838e-01,\n",
      "           1.2441e-01, -6.9251e-01],\n",
      "         [ 7.5041e-01,  8.9188e-01,  6.8097e-01,  ...,  5.3265e-01,\n",
      "           6.3477e-01,  5.4146e-01],\n",
      "         [-5.1949e-01, -1.5187e-01, -2.0244e-01,  ..., -5.3454e-01,\n",
      "          -7.5396e-01, -9.6442e-01]]])\n"
     ]
    }
   ],
   "source": [
    "if show:\n",
    "    data_downsampled = downsample(data)\n",
    "    print(data_downsampled.shape, data_downsampled)"
   ]
  },
  {
   "cell_type": "code",
   "execution_count": 24,
   "id": "15910017-71e7-4f44-bd43-27b953f9ad58",
   "metadata": {},
   "outputs": [],
   "source": [
    "import warnings\n",
    "\n",
    "# Never mind the warnings...\n",
    "warnings.filterwarnings(\"ignore\", category=FutureWarning, module=\"sklearn.base\")\n",
    "\n",
    "def ica(data, max_iter=500, tol=1e-8, whiten=True, ortho=False):\n",
    "    results = []\n",
    "    for d in data:\n",
    "        d = d.transpose(0, 1)\n",
    "        transform = picard.Picard(d.size(1), max_iter=max_iter, tol=tol, whiten=whiten, ortho=ortho)\n",
    "        result = torch.tensor(transform.fit_transform(d.cpu()),\n",
    "                              dtype=data.dtype,\n",
    "                              device=data.device).transpose(0, 1)\n",
    "        results.append(result)\n",
    "    return torch.stack(results)"
   ]
  },
  {
   "cell_type": "code",
   "execution_count": 25,
   "id": "ca265cda-d025-47fa-b5de-c783afc2d904",
   "metadata": {},
   "outputs": [
    {
     "name": "stdout",
     "output_type": "stream",
     "text": [
      "torch.Size([9315, 6, 512]) tensor([[-0.0854, -0.1135, -0.0207,  ...,  0.0366,  0.0065,  0.0301],\n",
      "        [ 0.0455, -0.0207, -0.0768,  ...,  0.0510,  0.0720, -0.0448],\n",
      "        [-0.0170,  0.0057,  0.0345,  ..., -0.0107, -0.0339, -0.0020],\n",
      "        [-0.0321, -0.0087,  0.0563,  ..., -0.0135,  0.0145, -0.0096],\n",
      "        [ 0.0595, -0.0071, -0.0673,  ...,  0.0494,  0.0767,  0.1006],\n",
      "        [-0.0286, -0.0578, -0.0998,  ...,  0.0111, -0.0541, -0.0869]])\n"
     ]
    }
   ],
   "source": [
    "if show:\n",
    "    y = ica(data_downsampled)\n",
    "    print(y.shape, y[0])"
   ]
  },
  {
   "cell_type": "code",
   "execution_count": 26,
   "id": "7d99ad66-9ac7-42cf-89c3-8b4df28783d0",
   "metadata": {},
   "outputs": [],
   "source": [
    "# This was provided by o1 based on the disussion here:\n",
    "# https://chatgpt.com/share/67669e9c-ebd8-8007-92f0-70579f58cc9a\n",
    "\n",
    "def ica_fit_and_transform(\n",
    "    data: torch.Tensor,      # shape [N, C, T]\n",
    "    train_mask: torch.Tensor,# shape [N], boolean or long indices\n",
    "    max_iter: int = 1000,\n",
    "    tol: float = 1e-6\n",
    ") -> torch.Tensor:\n",
    "    \"\"\"\n",
    "    Learn a single ICA decomposition on all training-set trials, \n",
    "    then apply that unmixing to the entire dataset.\n",
    "\n",
    "    Args:\n",
    "        data (torch.Tensor): \n",
    "            EEG data of shape [num_trials, num_channels, num_timepoints].\n",
    "        train_mask (torch.Tensor): \n",
    "            Boolean or index mask of shape [num_trials] indicating which trials are training.\n",
    "        max_iter (int): \n",
    "            Maximum number of Picard iterations.\n",
    "        tol (float): \n",
    "            Tolerance for the stopping criterion in Picard.\n",
    "\n",
    "    Returns:\n",
    "        torch.Tensor: \n",
    "            ICA-transformed data of shape [num_trials, num_channels, num_timepoints].\n",
    "            Each trial has the same shape as input but in the ICA component space.\n",
    "    \"\"\"\n",
    "\n",
    "    device = data.device\n",
    "    dtype = data.dtype\n",
    "\n",
    "    # ------------------------------------------\n",
    "    # 1) EXTRACT & CONCATENATE ALL TRAINING TRIALS\n",
    "    # ------------------------------------------\n",
    "    # data[train_mask] has shape [n_train, C, T]\n",
    "    train_data = data[train_mask]\n",
    "    n_train, C, T = train_data.shape\n",
    "\n",
    "    # We want shape [n_samples, n_features] = [n_train*T, C]\n",
    "    # So permute to [n_train, T, C], then reshape\n",
    "    # => shape [n_train*T, C]\n",
    "    train_data_2d = train_data.permute(0, 2, 1).reshape(-1, C)\n",
    "\n",
    "    # Move to CPU if necessary, because Picard typically runs on NumPy\n",
    "    train_data_np = train_data_2d.cpu().numpy()\n",
    "\n",
    "    # ------------------------------------------\n",
    "    # 2) FIT ICA ON ALL TRAINING DATA\n",
    "    # ------------------------------------------\n",
    "    ica_transform = picard.Picard(\n",
    "        n_components=C, \n",
    "        max_iter=max_iter, \n",
    "        tol=tol\n",
    "    )\n",
    "    ica_transform.fit(train_data_np)\n",
    "\n",
    "    # ------------------------------------------\n",
    "    # 3) APPLY ICA TO ALL TRIALS (TRAIN/VAL/TEST)\n",
    "    # ------------------------------------------\n",
    "    results = []\n",
    "    N = data.shape[0]\n",
    "    for i in range(N):\n",
    "        # Each trial: shape [C, T]\n",
    "        trial = data[i]  \n",
    "        # Transpose to [T, C] for transform()\n",
    "        trial_t = trial.transpose(0, 1).cpu().numpy()\n",
    "\n",
    "        # Transform with the learned unmixing\n",
    "        trial_ica = ica_transform.transform(trial_t)  \n",
    "        # => shape [T, C]\n",
    "\n",
    "        # Convert back to Torch, and transpose to [C, T] if desired\n",
    "        trial_ica_torch = torch.tensor(\n",
    "            trial_ica, dtype=dtype, device=device\n",
    "        ).transpose(0, 1)\n",
    "\n",
    "        results.append(trial_ica_torch)\n",
    "\n",
    "    # Stack back into [N, C, T]\n",
    "    return torch.stack(results, dim=0)"
   ]
  },
  {
   "cell_type": "code",
   "execution_count": 27,
   "id": "acfb4c52-cca2-4e40-82bb-ba3e546e328e",
   "metadata": {},
   "outputs": [
    {
     "name": "stdout",
     "output_type": "stream",
     "text": [
      "torch.Size([9315, 6, 512]) tensor([[ 6.2618e-04,  1.8022e-04, -6.1870e-04,  ...,  2.6138e-04,\n",
      "          4.7135e-04,  3.1608e-04],\n",
      "        [ 3.7090e-04,  6.8706e-04,  2.1199e-04,  ..., -3.1555e-04,\n",
      "         -3.3381e-04, -5.1136e-04],\n",
      "        [-3.7752e-05,  1.1475e-04,  2.0680e-04,  ..., -1.4198e-04,\n",
      "         -6.9374e-05, -7.0942e-05],\n",
      "        [ 5.4153e-04,  1.3192e-04, -5.0859e-04,  ...,  2.7986e-04,\n",
      "          4.0315e-04,  2.7417e-04],\n",
      "        [-1.5841e-04, -1.9876e-04,  7.9294e-05,  ...,  1.1037e-04,\n",
      "         -5.1634e-07,  6.6152e-05],\n",
      "        [-4.0922e-04, -5.6903e-04, -5.9870e-04,  ...,  8.9654e-05,\n",
      "         -4.5638e-04, -5.9191e-04]])\n"
     ]
    }
   ],
   "source": [
    "if show:\n",
    "    train_mask = torch.rand((len(data_downsampled),)) < 0.8\n",
    "    z = ica_fit_and_transform(data_downsampled, train_mask=train_mask)\n",
    "    print(z.shape, z[0])"
   ]
  },
  {
   "cell_type": "code",
   "execution_count": 28,
   "id": "16ab1956-bbdf-42e9-ad36-19c2f22dc185",
   "metadata": {},
   "outputs": [],
   "source": [
    "def bandpass_filter(data, low=2, high=40, rate=1024, order=10):\n",
    "    sos = scipy.signal.butter(order, [low / rate / 2, high / rate / 2], btype='band', output='sos')\n",
    "    return torch.tensor(scipy.signal.sosfilt(sos, np.ascontiguousarray(data.cpu())), dtype=data.dtype, device=data.device)"
   ]
  },
  {
   "cell_type": "code",
   "execution_count": 29,
   "id": "188f6caf-da89-4967-8b8f-890738674bdb",
   "metadata": {},
   "outputs": [],
   "source": [
    "def bandpass_filter(data=None, low=2, high=40, rate=1024, order=100, axis=-1, zero_phase=True):\n",
    "    sos = scipy.signal.butter(order, [low / (rate / 2), high / (rate / 2)], btype='band', output='sos')\n",
    "    if data is None:\n",
    "        return sos\n",
    "        \n",
    "    np_data = np.ascontiguousarray(data.detach().cpu().numpy())\n",
    "    \n",
    "    if zero_phase:\n",
    "        op = scipy.signal.sosfiltfilt\n",
    "    else:\n",
    "        op = scipy.signal.sosfilt\n",
    "        \n",
    "    filtered = op(sos, np_data, axis=axis)\n",
    "    # Fix stride issues with filtfilt.\n",
    "    filtered = filtered.copy()\n",
    "        \n",
    "    return torch.from_numpy(filtered).type_as(data).to(data.device)"
   ]
  },
  {
   "cell_type": "code",
   "execution_count": 30,
   "id": "53345c62-156c-45f8-92bc-532427e8f64d",
   "metadata": {},
   "outputs": [
    {
     "name": "stdout",
     "output_type": "stream",
     "text": [
      "torch.Size([9315, 6, 4096]) tensor([[-0.0341,  0.0824,  0.1976,  ...,  0.2582,  0.2042,  0.1484],\n",
      "        [-0.0069,  0.0319,  0.0698,  ...,  0.3697,  0.3468,  0.3222],\n",
      "        [-0.0412,  0.1496,  0.3398,  ..., -0.2417, -0.2315, -0.2202],\n",
      "        [ 0.0372, -0.0530, -0.1423,  ..., -0.0735,  0.0254,  0.1265],\n",
      "        [-0.0258, -0.1558, -0.2848,  ..., -0.2713, -0.2737, -0.2754],\n",
      "        [ 0.0778, -0.0707, -0.2185,  ..., -0.0257, -0.0427, -0.0599]])\n"
     ]
    }
   ],
   "source": [
    "if show:\n",
    "    a = bandpass_filter(data)\n",
    "    print(a.shape, a[0])"
   ]
  },
  {
   "cell_type": "code",
   "execution_count": 38,
   "id": "4abbcc2d-5e22-44e0-b729-0618c1b3b945",
   "metadata": {},
   "outputs": [
    {
     "name": "stderr",
     "output_type": "stream",
     "text": [
      "/tmp/ipykernel_276506/1008282864.py:6: RuntimeWarning: divide by zero encountered in log10\n",
      "  plt.plot(w, 20 * np.log10(abs(h)), 'b')\n"
     ]
    },
    {
     "data": {
      "image/png": "[encoded data removed]",
      "text/plain": [
       "<Figure size 1200x600 with 1 Axes>"
      ]
     },
     "metadata": {},
     "output_type": "display_data"
    }
   ],
   "source": [
    "if show:\n",
    "    w, h = scipy.signal.sosfreqz(bandpass_filter(), worN=2000, fs=rate)\n",
    "\n",
    "    plt.figure(figsize=(12, 6))\n",
    "    \n",
    "    plt.plot(w, 20 * np.log10(abs(h)), 'b')\n",
    "    plt.title('Bandpass Filter Frequency Response')\n",
    "    plt.ylabel('Amplitude [dB]')\n",
    "    plt.xlabel('Frequency [Hz]')\n",
    "    plt.grid(True)\n",
    "    plt.xlim(0, 100)\n",
    "    plt.ylim(-100, 5)\n",
    "        \n",
    "    plt.tight_layout()\n",
    "    plt.show()"
   ]
  },
  {
   "cell_type": "code",
   "execution_count": 32,
   "id": "8a2b26e3-89e6-4bae-9369-da9f867a2a4c",
   "metadata": {},
   "outputs": [],
   "source": [
    "def robust_scaler(data):\n",
    "    scaled = sklearn.preprocessing.RobustScaler().fit_transform(data.cpu().numpy().reshape(-1, data.shape[-1]))\n",
    "    return torch.tensor(scaled.reshape(data.shape), dtype=data.dtype, device=data.device)"
   ]
  },
  {
   "cell_type": "code",
   "execution_count": 33,
   "id": "969c49d9-9d00-4384-87ca-dcb6f18b7265",
   "metadata": {},
   "outputs": [
    {
     "name": "stdout",
     "output_type": "stream",
     "text": [
      "torch.Size([9315, 6, 4096]) tensor([[-6.9098e-01, -6.3753e-01, -5.7307e-01,  ..., -1.3462e-01,\n",
      "         -1.6671e-01, -2.0520e-01],\n",
      "        [-5.3998e-02, -3.4501e-02, -1.8557e-02,  ..., -1.9996e-01,\n",
      "         -2.2258e-01, -2.5000e-01],\n",
      "        [-1.9141e+00, -1.8303e+00, -1.7205e+00,  ...,  2.3163e-02,\n",
      "          3.0455e-02,  3.7434e-02],\n",
      "        [ 1.1553e+00,  1.1085e+00,  1.0510e+00,  ..., -5.7131e-01,\n",
      "         -5.1752e-01, -4.5665e-01],\n",
      "        [ 5.1274e-02, -1.6231e-03, -6.6230e-02,  ...,  4.4022e-01,\n",
      "          4.3850e-01,  4.4245e-01],\n",
      "        [ 1.7515e+00,  1.6919e+00,  1.6107e+00,  ...,  3.8108e-01,\n",
      "          3.7139e-01,  3.7861e-01]])\n"
     ]
    }
   ],
   "source": [
    "if show:\n",
    "    b = robust_scaler(data)\n",
    "    print(b.shape, b[0])"
   ]
  },
  {
   "cell_type": "code",
   "execution_count": 34,
   "id": "e39f0610-7a79-46c5-b385-7a688bae300c",
   "metadata": {},
   "outputs": [],
   "source": [
    "excel_vowel_counts = {\n",
    "    'A': 672,\n",
    "    'E': 660,\n",
    "    'I': 662,\n",
    "    'O': 655,\n",
    "    'U': 667\n",
    "}"
   ]
  },
  {
   "cell_type": "code",
   "execution_count": 35,
   "id": "7805e401-6f55-46bd-a6a9-78af28c10cf2",
   "metadata": {},
   "outputs": [],
   "source": [
    "# Tripple check that the 0 index of the labels is modality, 1 is stimuli and that\n",
    "# the totals are correct compared to the Excel file distributed with the data.\n",
    "for i, vowel in enumerate(\"AEIOU\"):\n",
    "    assert ((labels[:,0] == 0) & (labels[:,1] == i)).sum() == excel_vowel_counts[vowel]"
   ]
  },
  {
   "cell_type": "code",
   "execution_count": null,
   "id": "f9ab45a8-75c7-4b64-a508-6ff5981647f8",
   "metadata": {},
   "outputs": [],
   "source": []
  }
 ],
 "metadata": {
  "kernelspec": {
   "display_name": "Python 3 (ipykernel)",
   "language": "python",
   "name": "python3"
  },
  "language_info": {
   "codemirror_mode": {
    "name": "ipython",
    "version": 3
   },
   "file_extension": ".py",
   "mimetype": "text/x-python",
   "name": "python",
   "nbconvert_exporter": "python",
   "pygments_lexer": "ipython3",
   "version": "3.12.3"
  }
 },
 "nbformat": 4,
 "nbformat_minor": 5
}
